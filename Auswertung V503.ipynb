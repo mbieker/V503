{
 "metadata": {
  "name": ""
 },
 "nbformat": 3,
 "nbformat_minor": 0,
 "worksheets": [
  {
   "cells": [
    {
     "cell_type": "code",
     "collapsed": false,
     "input": [
      "# Importe \n",
      "from numpy import *\n",
      "from matplotlib.pyplot import *\n",
      "%matplotlib inline"
     ],
     "language": "python",
     "metadata": {},
     "outputs": [],
     "prompt_number": 207
    },
    {
     "cell_type": "code",
     "collapsed": false,
     "input": [
      "# Daten laden \n",
      "data = loadtxt(\"dataA.txt\", unpack=True)\n",
      "s=0.0005"
     ],
     "language": "python",
     "metadata": {},
     "outputs": [],
     "prompt_number": 208
    },
    {
     "cell_type": "code",
     "collapsed": false,
     "input": [
      "# In geschwindigkeiten umrechnen und falsche Messwerte l\u00f6schen\n",
      "v_0_= s / data[0]\n",
      "v_up_ = s / data[1]\n",
      "v_down_ = s / data[2]\n",
      "x = (v_down_-v_up_)/(2*v_0_)\n",
      "good_values = []\n",
      "for i in range(len(x)):\n",
      "    if x[i] > 0.7 and x[i] < 1.3:\n",
      "        good_values.append(i)\n",
      "v_0 = v_0_[good_values]\n",
      "v_up = v_up_[good_values]\n",
      "v_down = v_down_[good_values]\n",
      "temp = data[4][good_values]\n",
      "v_up"
     ],
     "language": "python",
     "metadata": {},
     "outputs": [
      {
       "metadata": {},
       "output_type": "pyout",
       "prompt_number": 209,
       "text": [
        "array([  6.29247420e-05,   8.86524823e-05,   1.31717597e-04,\n",
        "         4.25314733e-05,   9.55401842e-06,   9.54745083e-05,\n",
        "         2.82374202e-05,   5.39257981e-05,   1.42211098e-05,\n",
        "         8.68357068e-05,   2.08454932e-05])"
       ]
      }
     ],
     "prompt_number": 209
    },
    {
     "cell_type": "code",
     "collapsed": false,
     "input": [
      "#Konstanten\n",
      "rho_luft =  1.1839 # kg/m^3\n",
      "rho_oel = 886.0 # kg/m^3\n",
      "U = 297.0 #Volts\n",
      "d = 7.6250e-3 #meter\n",
      "g = 9.18 # m/s^2\n"
     ],
     "language": "python",
     "metadata": {},
     "outputs": [],
     "prompt_number": 210
    },
    {
     "cell_type": "code",
     "collapsed": false,
     "input": [
      "# Viskosit\u00e4t der Luft bestimmen und Tr\u00f6pchenradius bestimmen\n",
      "#visko = ((temp-15.5)*0.08/16.5+1.80)*1e-5\n",
      "visko = array([1.8575,1.8620,1.8620,1.8620,1.867,1.867,1.8720,1.8720,1.8720,1.8720,1.8720])*1e-5 # Aus Diagramm abgelesen\n",
      "r = sqrt((9*visko*(v_down-v_up))/(2*g*(rho_oel-rho_luft)))\n",
      "print v_up"
     ],
     "language": "python",
     "metadata": {},
     "outputs": [
      {
       "output_type": "stream",
       "stream": "stdout",
       "text": [
        "[  6.29247420e-05   8.86524823e-05   1.31717597e-04   4.25314733e-05\n",
        "   9.55401842e-06   9.54745083e-05   2.82374202e-05   5.39257981e-05\n",
        "   1.42211098e-05   8.68357068e-05   2.08454932e-05]\n"
       ]
      }
     ],
     "prompt_number": 211
    },
    {
     "cell_type": "code",
     "collapsed": false,
     "input": [
      "# Cunnigham Korrektur\n",
      "p = 760.0 # Luftdruck in Torr\n",
      "B = 6.17e-5 # Torr*m\n",
      "visko_eff = visko/(1+B/(r*p))"
     ],
     "language": "python",
     "metadata": {},
     "outputs": [],
     "prompt_number": 212
    },
    {
     "cell_type": "code",
     "collapsed": false,
     "input": [
      "\n",
      "q = 3.*pi*visko_eff*sqrt(9.*visko_eff*(v_down-v_up)/(4.0*g*(rho_oel-rho_luft)))*(v_down+v_up)*d/U"
     ],
     "language": "python",
     "metadata": {},
     "outputs": [],
     "prompt_number": 213
    },
    {
     "cell_type": "code",
     "collapsed": false,
     "input": [
      "plot(q,[1]*len(q),'x')\n",
      "xlabel(\"q[C]\")"
     ],
     "language": "python",
     "metadata": {},
     "outputs": [
      {
       "metadata": {},
       "output_type": "pyout",
       "prompt_number": 214,
       "text": [
        "<matplotlib.text.Text at 0xb085448c>"
       ]
      },
      {
       "metadata": {},
       "output_type": "display_data",
       "png": "[encoded data removed]",
       "text": [
        "<matplotlib.figure.Figure at 0xb087cd8c>"
       ]
      }
     ],
     "prompt_number": 214
    },
    {
     "cell_type": "code",
     "collapsed": false,
     "input": [
      "visko_eff"
     ],
     "language": "python",
     "metadata": {},
     "outputs": [
      {
       "metadata": {},
       "output_type": "pyout",
       "prompt_number": 215,
       "text": [
        "array([  1.67637119e-05,   1.66763252e-05,   1.51046152e-05,\n",
        "         1.65475391e-05,   1.70040928e-05,   1.64447979e-05,\n",
        "         1.71609959e-05,   1.56539912e-05,   1.66598185e-05,\n",
        "         1.61014699e-05,   1.70264115e-05])"
       ]
      }
     ],
     "prompt_number": 215
    },
    {
     "cell_type": "code",
     "collapsed": false,
     "input": [
      "r"
     ],
     "language": "python",
     "metadata": {},
     "outputs": [
      {
       "metadata": {},
       "output_type": "pyout",
       "prompt_number": 216,
       "text": [
        "array([  7.51370667e-07,   6.96543640e-07,   3.48825617e-07,\n",
        "         6.48214345e-07,   8.28655929e-07,   5.99971546e-07,\n",
        "         8.93648629e-07,   4.14498780e-07,   6.56502452e-07,\n",
        "         4.99205687e-07,   8.16181613e-07])"
       ]
      }
     ],
     "prompt_number": 216
    },
    {
     "cell_type": "code",
     "collapsed": false,
     "input": [],
     "language": "python",
     "metadata": {},
     "outputs": [],
     "prompt_number": 216
    },
    {
     "cell_type": "code",
     "collapsed": false,
     "input": [],
     "language": "python",
     "metadata": {},
     "outputs": [],
     "prompt_number": 216
    }
   ],
   "metadata": {}
  }
 ]
}